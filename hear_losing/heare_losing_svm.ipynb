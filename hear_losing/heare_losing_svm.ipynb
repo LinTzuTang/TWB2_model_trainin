{
 "cells": [
  {
   "cell_type": "code",
   "execution_count": 32,
   "metadata": {},
   "outputs": [],
   "source": [
    "import pandas as pd "
   ]
  },
  {
   "cell_type": "code",
   "execution_count": 132,
   "metadata": {},
   "outputs": [],
   "source": [
    "from sklearn.metrics import accuracy_score,accuracy_score,f1_score,matthews_corrcoef,confusion_matrix,roc_curve,auc\n",
    "def evalution_metrics(test_label, labels_score, save=False, txt_name=None, path = './'):\n",
    "    accuracy = accuracy_score(test_label, labels_score.round())\n",
    "    confusion = confusion_matrix(test_label, labels_score.round())\n",
    "    TP = confusion[1, 1]\n",
    "    TN = confusion[0, 0]\n",
    "    FP = confusion[0, 1]\n",
    "    FN = confusion[1, 0]\n",
    "    precision = TP / float(TP + FP)\n",
    "    sensitivity = TP / float(FN + TP)\n",
    "    specificity = TN / float(TN + FP)\n",
    "    f1 = f1_score(test_label, labels_score.round())\n",
    "    mcc = matthews_corrcoef(test_label, labels_score.round())\n",
    "    # precision TP / (TP + FP)\n",
    "    # recall: TP / (TP + FN)\n",
    "    # specificity : TN / (TN + FP)\n",
    "    # f1: 2 TP / (2 TP + FP + FN)\n",
    "    metrics = [accuracy,precision,sensitivity,specificity,f1,mcc]\n",
    "    columns=['accuracy', 'precision', 'sensitivity', 'specificity', 'f1', 'mcc']\n",
    "    metrics_dict = dict(zip(columns,metrics))\n",
    "    if save:\n",
    "        df = pd.DataFrame(metrics_dict,index=[0])\n",
    "        df.to_csv(path+'%s_metrics.csv'%txt_name)\n",
    "        print('  # Accuracy: %f' % accuracy+'\\n')\n",
    "        print('  # Precision: %f' % precision+'\\n')  \n",
    "        print('  # Sensitivity/Recall: %f' % sensitivity+'\\n')\n",
    "        print('  # Specificity: %f' %specificity+'\\n')\n",
    "        print('  # F1 score: %f' % f1+'\\n')\n",
    "        print('  # Matthews Corrcoef:%f' % mcc+'\\n')\n",
    "    else:\n",
    "        return(metrics_dict)"
   ]
  },
  {
   "cell_type": "code",
   "execution_count": 33,
   "metadata": {},
   "outputs": [],
   "source": [
    "TWB2_hearing_loss_phenotype_data = pd.read_csv('TWB2_hearing_loss_phenotype_data')"
   ]
  },
  {
   "cell_type": "code",
   "execution_count": 159,
   "metadata": {},
   "outputs": [
    {
     "data": {
      "text/html": [
       "<div>\n",
       "<style scoped>\n",
       "    .dataframe tbody tr th:only-of-type {\n",
       "        vertical-align: middle;\n",
       "    }\n",
       "\n",
       "    .dataframe tbody tr th {\n",
       "        vertical-align: top;\n",
       "    }\n",
       "\n",
       "    .dataframe thead th {\n",
       "        text-align: right;\n",
       "    }\n",
       "</style>\n",
       "<table border=\"1\" class=\"dataframe\">\n",
       "  <thead>\n",
       "    <tr style=\"text-align: right;\">\n",
       "      <th></th>\n",
       "      <th>TWB2_ID</th>\n",
       "      <th>AGE</th>\n",
       "      <th>I_32</th>\n",
       "      <th>hear_losing</th>\n",
       "    </tr>\n",
       "  </thead>\n",
       "  <tbody>\n",
       "    <tr>\n",
       "      <th>0</th>\n",
       "      <td>TV2A_20190903G</td>\n",
       "      <td>37.0</td>\n",
       "      <td>0.0</td>\n",
       "      <td>0</td>\n",
       "    </tr>\n",
       "    <tr>\n",
       "      <th>1</th>\n",
       "      <td>TV29_20181601H</td>\n",
       "      <td>51.0</td>\n",
       "      <td>50.0</td>\n",
       "      <td>1</td>\n",
       "    </tr>\n",
       "    <tr>\n",
       "      <th>2</th>\n",
       "      <td>TV2A_20191203C</td>\n",
       "      <td>47.0</td>\n",
       "      <td>25.0</td>\n",
       "      <td>1</td>\n",
       "    </tr>\n",
       "    <tr>\n",
       "      <th>3</th>\n",
       "      <td>TV2K_20192407A</td>\n",
       "      <td>34.0</td>\n",
       "      <td>0.0</td>\n",
       "      <td>0</td>\n",
       "    </tr>\n",
       "    <tr>\n",
       "      <th>4</th>\n",
       "      <td>TV2K_20192403E</td>\n",
       "      <td>46.0</td>\n",
       "      <td>0.0</td>\n",
       "      <td>0</td>\n",
       "    </tr>\n",
       "    <tr>\n",
       "      <th>...</th>\n",
       "      <td>...</td>\n",
       "      <td>...</td>\n",
       "      <td>...</td>\n",
       "      <td>...</td>\n",
       "    </tr>\n",
       "    <tr>\n",
       "      <th>5692</th>\n",
       "      <td>TV2K_20190506D</td>\n",
       "      <td>60.0</td>\n",
       "      <td>0.0</td>\n",
       "      <td>0</td>\n",
       "    </tr>\n",
       "    <tr>\n",
       "      <th>5693</th>\n",
       "      <td>TV20_20180903G</td>\n",
       "      <td>47.0</td>\n",
       "      <td>25.0</td>\n",
       "      <td>1</td>\n",
       "    </tr>\n",
       "    <tr>\n",
       "      <th>5694</th>\n",
       "      <td>TV2K_20190802C</td>\n",
       "      <td>55.0</td>\n",
       "      <td>0.0</td>\n",
       "      <td>0</td>\n",
       "    </tr>\n",
       "    <tr>\n",
       "      <th>5695</th>\n",
       "      <td>TV2R_20201701F</td>\n",
       "      <td>59.0</td>\n",
       "      <td>0.0</td>\n",
       "      <td>0</td>\n",
       "    </tr>\n",
       "    <tr>\n",
       "      <th>5696</th>\n",
       "      <td>TV2Q_20201802A</td>\n",
       "      <td>45.0</td>\n",
       "      <td>0.0</td>\n",
       "      <td>0</td>\n",
       "    </tr>\n",
       "  </tbody>\n",
       "</table>\n",
       "<p>5697 rows × 4 columns</p>\n",
       "</div>"
      ],
      "text/plain": [
       "             TWB2_ID   AGE  I_32  hear_losing\n",
       "0     TV2A_20190903G  37.0   0.0            0\n",
       "1     TV29_20181601H  51.0  50.0            1\n",
       "2     TV2A_20191203C  47.0  25.0            1\n",
       "3     TV2K_20192407A  34.0   0.0            0\n",
       "4     TV2K_20192403E  46.0   0.0            0\n",
       "...              ...   ...   ...          ...\n",
       "5692  TV2K_20190506D  60.0   0.0            0\n",
       "5693  TV20_20180903G  47.0  25.0            1\n",
       "5694  TV2K_20190802C  55.0   0.0            0\n",
       "5695  TV2R_20201701F  59.0   0.0            0\n",
       "5696  TV2Q_20201802A  45.0   0.0            0\n",
       "\n",
       "[5697 rows x 4 columns]"
      ]
     },
     "execution_count": 159,
     "metadata": {},
     "output_type": "execute_result"
    }
   ],
   "source": [
    "TWB2_hearing_loss_phenotype_data"
   ]
  },
  {
   "cell_type": "code",
   "execution_count": 40,
   "metadata": {},
   "outputs": [
    {
     "data": {
      "text/plain": [
       "(3844, 1853, 1853)"
      ]
     },
     "execution_count": 40,
     "metadata": {},
     "output_type": "execute_result"
    }
   ],
   "source": [
    "import random\n",
    "random.seed(10) \n",
    "normal_data = TWB2_hearing_loss_phenotype_data[TWB2_hearing_loss_phenotype_data['hear_losing']==0]\n",
    "case_data = TWB2_hearing_loss_phenotype_data[TWB2_hearing_loss_phenotype_data['hear_losing']==1]\n",
    "normal_data_sampled = normal_data.loc[random.sample(list(normal_data.index),len(case_data))]\n",
    "len(normal_data),len(case_data),len(normal_data_sampled)"
   ]
  },
  {
   "cell_type": "code",
   "execution_count": 44,
   "metadata": {},
   "outputs": [],
   "source": [
    "all_data = pd.concat([case_data,normal_data_sampled])"
   ]
  },
  {
   "cell_type": "code",
   "execution_count": 106,
   "metadata": {},
   "outputs": [],
   "source": [
    "from sklearn.model_selection import train_test_split\n",
    "train_data, test_data, train_labels, test_labels = train_test_split(all_data,all_data['hear_losing'],test_size=0.1,stratify=all_data['hear_losing'])\n"
   ]
  },
  {
   "cell_type": "code",
   "execution_count": 178,
   "metadata": {},
   "outputs": [
    {
     "data": {
      "text/plain": [
       "(3335, 371)"
      ]
     },
     "execution_count": 178,
     "metadata": {},
     "output_type": "execute_result"
    }
   ],
   "source": [
    "import numpy as np\n",
    "x_train = np.array(train_data['AGE']).reshape(-1,1)\n",
    "y_train = np.array(train_data['hear_losing'])\n",
    "x_test = np.array(test_data['AGE']).reshape(-1,1)\n",
    "y_test = np.array(test_data['hear_losing'])\n",
    "len(x_train),len(x_test)"
   ]
  },
  {
   "cell_type": "code",
   "execution_count": 136,
   "metadata": {},
   "outputs": [],
   "source": [
    "from sklearn.svm import SVC\n",
    "model = SVC()\n",
    "model.fit(x_train,y_train)\n",
    "labels_score = model.predict(x_test)"
   ]
  },
  {
   "cell_type": "code",
   "execution_count": 137,
   "metadata": {},
   "outputs": [
    {
     "data": {
      "text/plain": [
       "{'accuracy': 0.5795148247978437,\n",
       " 'precision': 0.5627705627705628,\n",
       " 'sensitivity': 0.7027027027027027,\n",
       " 'specificity': 0.45698924731182794,\n",
       " 'f1': 0.625,\n",
       " 'mcc': 0.16472342079865818}"
      ]
     },
     "execution_count": 137,
     "metadata": {},
     "output_type": "execute_result"
    }
   ],
   "source": [
    "evalution_metrics(test_labels, labels_score)"
   ]
  },
  {
   "cell_type": "code",
   "execution_count": 138,
   "metadata": {},
   "outputs": [],
   "source": [
    "from sklearn.model_selection import GridSearchCV"
   ]
  },
  {
   "cell_type": "code",
   "execution_count": 145,
   "metadata": {},
   "outputs": [],
   "source": [
    "param_grid = {'C':[0.1,1,10],'kernel':['linear', 'poly', 'rbf']}\n",
    "grid = GridSearchCV(SVC(),param_grid,verbose=3)              "
   ]
  },
  {
   "cell_type": "code",
   "execution_count": null,
   "metadata": {
    "scrolled": true
   },
   "outputs": [
    {
     "name": "stdout",
     "output_type": "stream",
     "text": [
      "Fitting 5 folds for each of 9 candidates, totalling 45 fits\n",
      "[CV 1/5] END ..............C=0.1, kernel=linear;, score=0.549 total time=   0.3s\n",
      "[CV 2/5] END ..............C=0.1, kernel=linear;, score=0.598 total time=   0.2s\n",
      "[CV 3/5] END ..............C=0.1, kernel=linear;, score=0.565 total time=   0.2s\n",
      "[CV 4/5] END ..............C=0.1, kernel=linear;, score=0.568 total time=   0.2s\n",
      "[CV 5/5] END ..............C=0.1, kernel=linear;, score=0.558 total time=   0.2s\n",
      "[CV 1/5] END ................C=0.1, kernel=poly;, score=0.544 total time=   0.9s\n",
      "[CV 2/5] END ................C=0.1, kernel=poly;, score=0.585 total time=   0.8s\n",
      "[CV 3/5] END ................C=0.1, kernel=poly;, score=0.558 total time=   0.9s\n",
      "[CV 4/5] END ................C=0.1, kernel=poly;, score=0.549 total time=   0.7s\n",
      "[CV 5/5] END ................C=0.1, kernel=poly;, score=0.532 total time=   0.7s\n",
      "[CV 1/5] END .................C=0.1, kernel=rbf;, score=0.543 total time=   0.3s\n",
      "[CV 2/5] END .................C=0.1, kernel=rbf;, score=0.591 total time=   0.3s\n",
      "[CV 3/5] END .................C=0.1, kernel=rbf;, score=0.552 total time=   0.3s\n",
      "[CV 4/5] END .................C=0.1, kernel=rbf;, score=0.574 total time=   0.3s\n",
      "[CV 5/5] END .................C=0.1, kernel=rbf;, score=0.558 total time=   0.3s\n",
      "[CV 1/5] END ................C=1, kernel=linear;, score=0.549 total time=   0.4s\n",
      "[CV 2/5] END ................C=1, kernel=linear;, score=0.598 total time=   0.3s\n",
      "[CV 3/5] END ................C=1, kernel=linear;, score=0.565 total time=   0.4s\n",
      "[CV 4/5] END ................C=1, kernel=linear;, score=0.568 total time=   0.3s\n",
      "[CV 5/5] END ................C=1, kernel=linear;, score=0.547 total time=   0.4s\n",
      "[CV 1/5] END ..................C=1, kernel=poly;, score=0.544 total time=   7.0s\n",
      "[CV 2/5] END ..................C=1, kernel=poly;, score=0.585 total time=   4.1s\n",
      "[CV 3/5] END ..................C=1, kernel=poly;, score=0.571 total time=   4.4s\n",
      "[CV 4/5] END ..................C=1, kernel=poly;, score=0.549 total time=   4.5s\n",
      "[CV 5/5] END ..................C=1, kernel=poly;, score=0.547 total time=   5.5s\n",
      "[CV 1/5] END ...................C=1, kernel=rbf;, score=0.543 total time=   0.3s\n",
      "[CV 2/5] END ...................C=1, kernel=rbf;, score=0.598 total time=   0.3s\n",
      "[CV 3/5] END ...................C=1, kernel=rbf;, score=0.552 total time=   0.3s\n",
      "[CV 4/5] END ...................C=1, kernel=rbf;, score=0.574 total time=   0.3s\n",
      "[CV 5/5] END ...................C=1, kernel=rbf;, score=0.558 total time=   0.3s\n",
      "[CV 1/5] END ...............C=10, kernel=linear;, score=0.549 total time=   1.2s\n",
      "[CV 2/5] END ...............C=10, kernel=linear;, score=0.598 total time=   1.3s\n",
      "[CV 3/5] END ...............C=10, kernel=linear;, score=0.565 total time=   1.4s\n",
      "[CV 4/5] END ...............C=10, kernel=linear;, score=0.568 total time=   1.1s\n",
      "[CV 5/5] END ...............C=10, kernel=linear;, score=0.547 total time=   1.4s\n",
      "[CV 1/5] END .................C=10, kernel=poly;, score=0.529 total time= 1.3min\n",
      "[CV 2/5] END .................C=10, kernel=poly;, score=0.601 total time= 1.6min\n"
     ]
    }
   ],
   "source": [
    "grid.fit(x_train,y_train)"
   ]
  },
  {
   "cell_type": "code",
   "execution_count": 148,
   "metadata": {},
   "outputs": [
    {
     "data": {
      "text/plain": [
       "SVC(C=0.1, kernel='linear')"
      ]
     },
     "execution_count": 148,
     "metadata": {},
     "output_type": "execute_result"
    }
   ],
   "source": [
    "grid.best_estimator_"
   ]
  },
  {
   "cell_type": "code",
   "execution_count": 155,
   "metadata": {},
   "outputs": [],
   "source": [
    "labels_score = grid.predict(x_test)"
   ]
  },
  {
   "cell_type": "code",
   "execution_count": 170,
   "metadata": {},
   "outputs": [],
   "source": [
    " e = evalution_metrics(test_labels, labels_score)"
   ]
  },
  {
   "cell_type": "code",
   "execution_count": 174,
   "metadata": {},
   "outputs": [],
   "source": [
    "df = pd.DataFrame(e,index=['grid_cv'])"
   ]
  },
  {
   "cell_type": "code",
   "execution_count": 175,
   "metadata": {},
   "outputs": [],
   "source": [
    "dfa = pd.DataFrame(a,index=['defult'])"
   ]
  },
  {
   "cell_type": "code",
   "execution_count": 177,
   "metadata": {},
   "outputs": [
    {
     "data": {
      "text/html": [
       "<div>\n",
       "<style scoped>\n",
       "    .dataframe tbody tr th:only-of-type {\n",
       "        vertical-align: middle;\n",
       "    }\n",
       "\n",
       "    .dataframe tbody tr th {\n",
       "        vertical-align: top;\n",
       "    }\n",
       "\n",
       "    .dataframe thead th {\n",
       "        text-align: right;\n",
       "    }\n",
       "</style>\n",
       "<table border=\"1\" class=\"dataframe\">\n",
       "  <thead>\n",
       "    <tr style=\"text-align: right;\">\n",
       "      <th></th>\n",
       "      <th>accuracy</th>\n",
       "      <th>precision</th>\n",
       "      <th>sensitivity</th>\n",
       "      <th>specificity</th>\n",
       "      <th>f1</th>\n",
       "      <th>mcc</th>\n",
       "    </tr>\n",
       "  </thead>\n",
       "  <tbody>\n",
       "    <tr>\n",
       "      <th>defult</th>\n",
       "      <td>0.579515</td>\n",
       "      <td>0.562771</td>\n",
       "      <td>0.702703</td>\n",
       "      <td>0.456989</td>\n",
       "      <td>0.625000</td>\n",
       "      <td>0.164723</td>\n",
       "    </tr>\n",
       "    <tr>\n",
       "      <th>grid</th>\n",
       "      <td>0.579515</td>\n",
       "      <td>0.566210</td>\n",
       "      <td>0.670270</td>\n",
       "      <td>0.489247</td>\n",
       "      <td>0.613861</td>\n",
       "      <td>0.162184</td>\n",
       "    </tr>\n",
       "  </tbody>\n",
       "</table>\n",
       "</div>"
      ],
      "text/plain": [
       "        accuracy  precision  sensitivity  specificity        f1       mcc\n",
       "defult  0.579515   0.562771     0.702703     0.456989  0.625000  0.164723\n",
       "grid    0.579515   0.566210     0.670270     0.489247  0.613861  0.162184"
      ]
     },
     "execution_count": 177,
     "metadata": {},
     "output_type": "execute_result"
    }
   ],
   "source": [
    "pd.concat([dfa,df])"
   ]
  },
  {
   "cell_type": "code",
   "execution_count": 180,
   "metadata": {},
   "outputs": [],
   "source": [
    "import matplotlib.pyplot as plt\n",
    "import seaborn as sns"
   ]
  },
  {
   "cell_type": "code",
   "execution_count": 188,
   "metadata": {},
   "outputs": [
    {
     "data": {
      "text/html": [
       "<div>\n",
       "<style scoped>\n",
       "    .dataframe tbody tr th:only-of-type {\n",
       "        vertical-align: middle;\n",
       "    }\n",
       "\n",
       "    .dataframe tbody tr th {\n",
       "        vertical-align: top;\n",
       "    }\n",
       "\n",
       "    .dataframe thead th {\n",
       "        text-align: right;\n",
       "    }\n",
       "</style>\n",
       "<table border=\"1\" class=\"dataframe\">\n",
       "  <thead>\n",
       "    <tr style=\"text-align: right;\">\n",
       "      <th></th>\n",
       "      <th>TWB2_ID</th>\n",
       "      <th>AGE</th>\n",
       "      <th>I_32</th>\n",
       "      <th>hear_losing</th>\n",
       "    </tr>\n",
       "  </thead>\n",
       "  <tbody>\n",
       "    <tr>\n",
       "      <th>0</th>\n",
       "      <td>TV2A_20190903G</td>\n",
       "      <td>37.0</td>\n",
       "      <td>0.0</td>\n",
       "      <td>0</td>\n",
       "    </tr>\n",
       "    <tr>\n",
       "      <th>1</th>\n",
       "      <td>TV29_20181601H</td>\n",
       "      <td>51.0</td>\n",
       "      <td>50.0</td>\n",
       "      <td>1</td>\n",
       "    </tr>\n",
       "    <tr>\n",
       "      <th>2</th>\n",
       "      <td>TV2A_20191203C</td>\n",
       "      <td>47.0</td>\n",
       "      <td>25.0</td>\n",
       "      <td>1</td>\n",
       "    </tr>\n",
       "    <tr>\n",
       "      <th>3</th>\n",
       "      <td>TV2K_20192407A</td>\n",
       "      <td>34.0</td>\n",
       "      <td>0.0</td>\n",
       "      <td>0</td>\n",
       "    </tr>\n",
       "    <tr>\n",
       "      <th>4</th>\n",
       "      <td>TV2K_20192403E</td>\n",
       "      <td>46.0</td>\n",
       "      <td>0.0</td>\n",
       "      <td>0</td>\n",
       "    </tr>\n",
       "    <tr>\n",
       "      <th>...</th>\n",
       "      <td>...</td>\n",
       "      <td>...</td>\n",
       "      <td>...</td>\n",
       "      <td>...</td>\n",
       "    </tr>\n",
       "    <tr>\n",
       "      <th>5692</th>\n",
       "      <td>TV2K_20190506D</td>\n",
       "      <td>60.0</td>\n",
       "      <td>0.0</td>\n",
       "      <td>0</td>\n",
       "    </tr>\n",
       "    <tr>\n",
       "      <th>5693</th>\n",
       "      <td>TV20_20180903G</td>\n",
       "      <td>47.0</td>\n",
       "      <td>25.0</td>\n",
       "      <td>1</td>\n",
       "    </tr>\n",
       "    <tr>\n",
       "      <th>5694</th>\n",
       "      <td>TV2K_20190802C</td>\n",
       "      <td>55.0</td>\n",
       "      <td>0.0</td>\n",
       "      <td>0</td>\n",
       "    </tr>\n",
       "    <tr>\n",
       "      <th>5695</th>\n",
       "      <td>TV2R_20201701F</td>\n",
       "      <td>59.0</td>\n",
       "      <td>0.0</td>\n",
       "      <td>0</td>\n",
       "    </tr>\n",
       "    <tr>\n",
       "      <th>5696</th>\n",
       "      <td>TV2Q_20201802A</td>\n",
       "      <td>45.0</td>\n",
       "      <td>0.0</td>\n",
       "      <td>0</td>\n",
       "    </tr>\n",
       "  </tbody>\n",
       "</table>\n",
       "<p>5697 rows × 4 columns</p>\n",
       "</div>"
      ],
      "text/plain": [
       "             TWB2_ID   AGE  I_32  hear_losing\n",
       "0     TV2A_20190903G  37.0   0.0            0\n",
       "1     TV29_20181601H  51.0  50.0            1\n",
       "2     TV2A_20191203C  47.0  25.0            1\n",
       "3     TV2K_20192407A  34.0   0.0            0\n",
       "4     TV2K_20192403E  46.0   0.0            0\n",
       "...              ...   ...   ...          ...\n",
       "5692  TV2K_20190506D  60.0   0.0            0\n",
       "5693  TV20_20180903G  47.0  25.0            1\n",
       "5694  TV2K_20190802C  55.0   0.0            0\n",
       "5695  TV2R_20201701F  59.0   0.0            0\n",
       "5696  TV2Q_20201802A  45.0   0.0            0\n",
       "\n",
       "[5697 rows x 4 columns]"
      ]
     },
     "execution_count": 188,
     "metadata": {},
     "output_type": "execute_result"
    }
   ],
   "source": [
    "TWB2_hearing_loss_phenotype_data"
   ]
  },
  {
   "cell_type": "code",
   "execution_count": 192,
   "metadata": {},
   "outputs": [],
   "source": [
    "TWB2_hearing_loss_phenotype_data_gb = TWB2_hearing_loss_phenotype_data.groupby(['AGE', 'I_32']).size().reset_index(name='Count')"
   ]
  },
  {
   "cell_type": "code",
   "execution_count": 205,
   "metadata": {},
   "outputs": [
    {
     "data": {
      "image/png": "[encoded data removed]",
      "text/plain": [
       "<Figure size 640x480 with 1 Axes>"
      ]
     },
     "metadata": {},
     "output_type": "display_data"
    }
   ],
   "source": [
    "sns.scatterplot(data=TWB2_hearing_loss_phenotype_data_gb, x='AGE', y='I_32', size='Count')\n",
    "plt.show()"
   ]
  },
  {
   "cell_type": "code",
   "execution_count": null,
   "metadata": {},
   "outputs": [],
   "source": []
  }
 ],
 "metadata": {
  "kernelspec": {
   "display_name": "Python 3",
   "language": "python",
   "name": "python3"
  },
  "language_info": {
   "codemirror_mode": {
    "name": "ipython",
    "version": 3
   },
   "file_extension": ".py",
   "mimetype": "text/x-python",
   "name": "python",
   "nbconvert_exporter": "python",
   "pygments_lexer": "ipython3",
   "version": "3.8.10"
  }
 },
 "nbformat": 4,
 "nbformat_minor": 2
}
